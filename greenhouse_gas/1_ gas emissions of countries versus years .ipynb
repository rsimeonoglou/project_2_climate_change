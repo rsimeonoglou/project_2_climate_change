{
 "cells": [
  {
   "cell_type": "code",
   "execution_count": 422,
   "metadata": {},
   "outputs": [],
   "source": [
    "import pandas as pd"
   ]
  },
  {
   "cell_type": "code",
   "execution_count": 423,
   "metadata": {},
   "outputs": [
    {
     "data": {
      "text/html": [
       "<div>\n",
       "<style scoped>\n",
       "    .dataframe tbody tr th:only-of-type {\n",
       "        vertical-align: middle;\n",
       "    }\n",
       "\n",
       "    .dataframe tbody tr th {\n",
       "        vertical-align: top;\n",
       "    }\n",
       "\n",
       "    .dataframe thead th {\n",
       "        text-align: right;\n",
       "    }\n",
       "</style>\n",
       "<table border=\"1\" class=\"dataframe\">\n",
       "  <thead>\n",
       "    <tr style=\"text-align: right;\">\n",
       "      <th></th>\n",
       "      <th>country_or_area</th>\n",
       "      <th>year</th>\n",
       "      <th>value</th>\n",
       "      <th>category</th>\n",
       "    </tr>\n",
       "  </thead>\n",
       "  <tbody>\n",
       "    <tr>\n",
       "      <th>0</th>\n",
       "      <td>Australia</td>\n",
       "      <td>2014</td>\n",
       "      <td>393126.946994</td>\n",
       "      <td>carbon_dioxide_co2_emissions_without_land_use_...</td>\n",
       "    </tr>\n",
       "    <tr>\n",
       "      <th>1</th>\n",
       "      <td>Australia</td>\n",
       "      <td>2013</td>\n",
       "      <td>396913.936530</td>\n",
       "      <td>carbon_dioxide_co2_emissions_without_land_use_...</td>\n",
       "    </tr>\n",
       "    <tr>\n",
       "      <th>2</th>\n",
       "      <td>Australia</td>\n",
       "      <td>2012</td>\n",
       "      <td>406462.847704</td>\n",
       "      <td>carbon_dioxide_co2_emissions_without_land_use_...</td>\n",
       "    </tr>\n",
       "    <tr>\n",
       "      <th>3</th>\n",
       "      <td>Australia</td>\n",
       "      <td>2011</td>\n",
       "      <td>403705.528314</td>\n",
       "      <td>carbon_dioxide_co2_emissions_without_land_use_...</td>\n",
       "    </tr>\n",
       "    <tr>\n",
       "      <th>4</th>\n",
       "      <td>Australia</td>\n",
       "      <td>2010</td>\n",
       "      <td>406200.993184</td>\n",
       "      <td>carbon_dioxide_co2_emissions_without_land_use_...</td>\n",
       "    </tr>\n",
       "    <tr>\n",
       "      <th>...</th>\n",
       "      <td>...</td>\n",
       "      <td>...</td>\n",
       "      <td>...</td>\n",
       "      <td>...</td>\n",
       "    </tr>\n",
       "    <tr>\n",
       "      <th>8401</th>\n",
       "      <td>United States of America</td>\n",
       "      <td>1994</td>\n",
       "      <td>593.222570</td>\n",
       "      <td>unspecified_mix_of_hydrofluorocarbons_hfcs_and...</td>\n",
       "    </tr>\n",
       "    <tr>\n",
       "      <th>8402</th>\n",
       "      <td>United States of America</td>\n",
       "      <td>1993</td>\n",
       "      <td>586.939752</td>\n",
       "      <td>unspecified_mix_of_hydrofluorocarbons_hfcs_and...</td>\n",
       "    </tr>\n",
       "    <tr>\n",
       "      <th>8403</th>\n",
       "      <td>United States of America</td>\n",
       "      <td>1992</td>\n",
       "      <td>574.414624</td>\n",
       "      <td>unspecified_mix_of_hydrofluorocarbons_hfcs_and...</td>\n",
       "    </tr>\n",
       "    <tr>\n",
       "      <th>8404</th>\n",
       "      <td>United States of America</td>\n",
       "      <td>1991</td>\n",
       "      <td>566.900968</td>\n",
       "      <td>unspecified_mix_of_hydrofluorocarbons_hfcs_and...</td>\n",
       "    </tr>\n",
       "    <tr>\n",
       "      <th>8405</th>\n",
       "      <td>United States of America</td>\n",
       "      <td>1990</td>\n",
       "      <td>293.205663</td>\n",
       "      <td>unspecified_mix_of_hydrofluorocarbons_hfcs_and...</td>\n",
       "    </tr>\n",
       "  </tbody>\n",
       "</table>\n",
       "<p>8406 rows × 4 columns</p>\n",
       "</div>"
      ],
      "text/plain": [
       "               country_or_area  year          value  \\\n",
       "0                    Australia  2014  393126.946994   \n",
       "1                    Australia  2013  396913.936530   \n",
       "2                    Australia  2012  406462.847704   \n",
       "3                    Australia  2011  403705.528314   \n",
       "4                    Australia  2010  406200.993184   \n",
       "...                        ...   ...            ...   \n",
       "8401  United States of America  1994     593.222570   \n",
       "8402  United States of America  1993     586.939752   \n",
       "8403  United States of America  1992     574.414624   \n",
       "8404  United States of America  1991     566.900968   \n",
       "8405  United States of America  1990     293.205663   \n",
       "\n",
       "                                               category  \n",
       "0     carbon_dioxide_co2_emissions_without_land_use_...  \n",
       "1     carbon_dioxide_co2_emissions_without_land_use_...  \n",
       "2     carbon_dioxide_co2_emissions_without_land_use_...  \n",
       "3     carbon_dioxide_co2_emissions_without_land_use_...  \n",
       "4     carbon_dioxide_co2_emissions_without_land_use_...  \n",
       "...                                                 ...  \n",
       "8401  unspecified_mix_of_hydrofluorocarbons_hfcs_and...  \n",
       "8402  unspecified_mix_of_hydrofluorocarbons_hfcs_and...  \n",
       "8403  unspecified_mix_of_hydrofluorocarbons_hfcs_and...  \n",
       "8404  unspecified_mix_of_hydrofluorocarbons_hfcs_and...  \n",
       "8405  unspecified_mix_of_hydrofluorocarbons_hfcs_and...  \n",
       "\n",
       "[8406 rows x 4 columns]"
      ]
     },
     "execution_count": 423,
     "metadata": {},
     "output_type": "execute_result"
    }
   ],
   "source": [
    "df=pd.read_csv(\"data/emission.csv\")\n",
    "df"
   ]
  },
  {
   "cell_type": "code",
   "execution_count": 424,
   "metadata": {},
   "outputs": [],
   "source": [
    "df=df.rename(columns={\"country_or_area\":\"country\",\"value\":\"amount\",\"category\":\"gas\"})"
   ]
  },
  {
   "cell_type": "code",
   "execution_count": 425,
   "metadata": {},
   "outputs": [
    {
     "data": {
      "text/html": [
       "<div>\n",
       "<style scoped>\n",
       "    .dataframe tbody tr th:only-of-type {\n",
       "        vertical-align: middle;\n",
       "    }\n",
       "\n",
       "    .dataframe tbody tr th {\n",
       "        vertical-align: top;\n",
       "    }\n",
       "\n",
       "    .dataframe thead th {\n",
       "        text-align: right;\n",
       "    }\n",
       "</style>\n",
       "<table border=\"1\" class=\"dataframe\">\n",
       "  <thead>\n",
       "    <tr style=\"text-align: right;\">\n",
       "      <th></th>\n",
       "      <th>country</th>\n",
       "      <th>year</th>\n",
       "      <th>amount</th>\n",
       "      <th>gas</th>\n",
       "    </tr>\n",
       "  </thead>\n",
       "  <tbody>\n",
       "    <tr>\n",
       "      <th>0</th>\n",
       "      <td>Australia</td>\n",
       "      <td>2014</td>\n",
       "      <td>393126.946994</td>\n",
       "      <td>carbon_dioxide_co2_emissions_without_land_use_...</td>\n",
       "    </tr>\n",
       "    <tr>\n",
       "      <th>1</th>\n",
       "      <td>Australia</td>\n",
       "      <td>2013</td>\n",
       "      <td>396913.936530</td>\n",
       "      <td>carbon_dioxide_co2_emissions_without_land_use_...</td>\n",
       "    </tr>\n",
       "    <tr>\n",
       "      <th>2</th>\n",
       "      <td>Australia</td>\n",
       "      <td>2012</td>\n",
       "      <td>406462.847704</td>\n",
       "      <td>carbon_dioxide_co2_emissions_without_land_use_...</td>\n",
       "    </tr>\n",
       "    <tr>\n",
       "      <th>3</th>\n",
       "      <td>Australia</td>\n",
       "      <td>2011</td>\n",
       "      <td>403705.528314</td>\n",
       "      <td>carbon_dioxide_co2_emissions_without_land_use_...</td>\n",
       "    </tr>\n",
       "    <tr>\n",
       "      <th>4</th>\n",
       "      <td>Australia</td>\n",
       "      <td>2010</td>\n",
       "      <td>406200.993184</td>\n",
       "      <td>carbon_dioxide_co2_emissions_without_land_use_...</td>\n",
       "    </tr>\n",
       "    <tr>\n",
       "      <th>...</th>\n",
       "      <td>...</td>\n",
       "      <td>...</td>\n",
       "      <td>...</td>\n",
       "      <td>...</td>\n",
       "    </tr>\n",
       "    <tr>\n",
       "      <th>8401</th>\n",
       "      <td>United States of America</td>\n",
       "      <td>1994</td>\n",
       "      <td>593.222570</td>\n",
       "      <td>unspecified_mix_of_hydrofluorocarbons_hfcs_and...</td>\n",
       "    </tr>\n",
       "    <tr>\n",
       "      <th>8402</th>\n",
       "      <td>United States of America</td>\n",
       "      <td>1993</td>\n",
       "      <td>586.939752</td>\n",
       "      <td>unspecified_mix_of_hydrofluorocarbons_hfcs_and...</td>\n",
       "    </tr>\n",
       "    <tr>\n",
       "      <th>8403</th>\n",
       "      <td>United States of America</td>\n",
       "      <td>1992</td>\n",
       "      <td>574.414624</td>\n",
       "      <td>unspecified_mix_of_hydrofluorocarbons_hfcs_and...</td>\n",
       "    </tr>\n",
       "    <tr>\n",
       "      <th>8404</th>\n",
       "      <td>United States of America</td>\n",
       "      <td>1991</td>\n",
       "      <td>566.900968</td>\n",
       "      <td>unspecified_mix_of_hydrofluorocarbons_hfcs_and...</td>\n",
       "    </tr>\n",
       "    <tr>\n",
       "      <th>8405</th>\n",
       "      <td>United States of America</td>\n",
       "      <td>1990</td>\n",
       "      <td>293.205663</td>\n",
       "      <td>unspecified_mix_of_hydrofluorocarbons_hfcs_and...</td>\n",
       "    </tr>\n",
       "  </tbody>\n",
       "</table>\n",
       "<p>8406 rows × 4 columns</p>\n",
       "</div>"
      ],
      "text/plain": [
       "                       country  year         amount  \\\n",
       "0                    Australia  2014  393126.946994   \n",
       "1                    Australia  2013  396913.936530   \n",
       "2                    Australia  2012  406462.847704   \n",
       "3                    Australia  2011  403705.528314   \n",
       "4                    Australia  2010  406200.993184   \n",
       "...                        ...   ...            ...   \n",
       "8401  United States of America  1994     593.222570   \n",
       "8402  United States of America  1993     586.939752   \n",
       "8403  United States of America  1992     574.414624   \n",
       "8404  United States of America  1991     566.900968   \n",
       "8405  United States of America  1990     293.205663   \n",
       "\n",
       "                                                    gas  \n",
       "0     carbon_dioxide_co2_emissions_without_land_use_...  \n",
       "1     carbon_dioxide_co2_emissions_without_land_use_...  \n",
       "2     carbon_dioxide_co2_emissions_without_land_use_...  \n",
       "3     carbon_dioxide_co2_emissions_without_land_use_...  \n",
       "4     carbon_dioxide_co2_emissions_without_land_use_...  \n",
       "...                                                 ...  \n",
       "8401  unspecified_mix_of_hydrofluorocarbons_hfcs_and...  \n",
       "8402  unspecified_mix_of_hydrofluorocarbons_hfcs_and...  \n",
       "8403  unspecified_mix_of_hydrofluorocarbons_hfcs_and...  \n",
       "8404  unspecified_mix_of_hydrofluorocarbons_hfcs_and...  \n",
       "8405  unspecified_mix_of_hydrofluorocarbons_hfcs_and...  \n",
       "\n",
       "[8406 rows x 4 columns]"
      ]
     },
     "execution_count": 425,
     "metadata": {},
     "output_type": "execute_result"
    }
   ],
   "source": [
    "df"
   ]
  },
  {
   "cell_type": "code",
   "execution_count": 426,
   "metadata": {},
   "outputs": [],
   "source": [
    "df.loc[df[\"gas\"]==\"carbon_dioxide_co2_emissions_without_land_use_land_use_change_and_forestry_lulucf_in_kilotonne_co2_equivalent\",[\"gas\"]]=\"CO2 without lulucf\"\n",
    "df.loc[df[\"gas\"]==\"greenhouse_gas_ghgs_emissions_including_indirect_co2_without_lulucf_in_kilotonne_co2_equivalent\",[\"gas\"]]=\"GHG with indirect CO2 without lulucf\"\n",
    "df.loc[df[\"gas\"]==\"greenhouse_gas_ghgs_emissions_without_land_use_land_use_change_and_forestry_lulucf_in_kilotonne_co2_equivalent\",[\"gas\"]]=\"GHG without lulucf\"\n",
    "df.loc[df[\"gas\"]==\"hydrofluorocarbons_hfcs_emissions_in_kilotonne_co2_equivalent\",[\"gas\"]]=\"Hydrofluorocarbon\"\n",
    "df.loc[df[\"gas\"]==\"methane_ch4_emissions_without_land_use_land_use_change_and_forestry_lulucf_in_kilotonne_co2_equivalent\",[\"gas\"]]=\"Metan without lulucf\"\n",
    "df.loc[df[\"gas\"]==\"nitrogen_trifluoride_nf3_emissions_in_kilotonne_co2_equivalent\",[\"gas\"]]=\"Nitrogen Trifluoride\"\n",
    "df.loc[df[\"gas\"]==\"nitrous_oxide_n2o_emissions_without_land_use_land_use_change_and_forestry_lulucf_in_kilotonne_co2_equivalent\",[\"gas\"]]=\"Nitrous Oxide without lulucf\"\n",
    "df.loc[df[\"gas\"]==\"perfluorocarbons_pfcs_emissions_in_kilotonne_co2_equivalent\",[\"gas\"]]=\"Perfluorocarbons\"\n",
    "df.loc[df[\"gas\"]==\"sulphur_hexafluoride_sf6_emissions_in_kilotonne_co2_equivalent\",[\"gas\"]]=\"Sulphur Hexafluoride\"\n",
    "df.loc[df[\"gas\"]==\"unspecified_mix_of_hydrofluorocarbons_hfcs_and_perfluorocarbons_pfcs_emissions_in_kilotonne_co2_equivalent\",[\"gas\"]]=\"Unspecified Mix of HCF and PFC\""
   ]
  },
  {
   "cell_type": "code",
   "execution_count": 427,
   "metadata": {},
   "outputs": [
    {
     "data": {
      "text/plain": [
       "array(['CO2 without lulucf', 'GHG with indirect CO2 without lulucf',\n",
       "       'GHG without lulucf', 'Hydrofluorocarbon', 'Metan without lulucf',\n",
       "       'Nitrogen Trifluoride', 'Nitrous Oxide without lulucf',\n",
       "       'Perfluorocarbons', 'Sulphur Hexafluoride',\n",
       "       'Unspecified Mix of HCF and PFC'], dtype=object)"
      ]
     },
     "execution_count": 427,
     "metadata": {},
     "output_type": "execute_result"
    }
   ],
   "source": [
    "gas_df=df[\"gas\"].unique()\n",
    "gas_df"
   ]
  },
  {
   "cell_type": "code",
   "execution_count": 428,
   "metadata": {},
   "outputs": [
    {
     "data": {
      "text/html": [
       "<div>\n",
       "<style scoped>\n",
       "    .dataframe tbody tr th:only-of-type {\n",
       "        vertical-align: middle;\n",
       "    }\n",
       "\n",
       "    .dataframe tbody tr th {\n",
       "        vertical-align: top;\n",
       "    }\n",
       "\n",
       "    .dataframe thead th {\n",
       "        text-align: right;\n",
       "    }\n",
       "</style>\n",
       "<table border=\"1\" class=\"dataframe\">\n",
       "  <thead>\n",
       "    <tr style=\"text-align: right;\">\n",
       "      <th></th>\n",
       "      <th>country</th>\n",
       "      <th>year</th>\n",
       "      <th>amount</th>\n",
       "      <th>gas</th>\n",
       "    </tr>\n",
       "  </thead>\n",
       "  <tbody>\n",
       "    <tr>\n",
       "      <th>0</th>\n",
       "      <td>Australia</td>\n",
       "      <td>2014</td>\n",
       "      <td>393126.95</td>\n",
       "      <td>CO2 without lulucf</td>\n",
       "    </tr>\n",
       "    <tr>\n",
       "      <th>1</th>\n",
       "      <td>Australia</td>\n",
       "      <td>2013</td>\n",
       "      <td>396913.94</td>\n",
       "      <td>CO2 without lulucf</td>\n",
       "    </tr>\n",
       "    <tr>\n",
       "      <th>2</th>\n",
       "      <td>Australia</td>\n",
       "      <td>2012</td>\n",
       "      <td>406462.85</td>\n",
       "      <td>CO2 without lulucf</td>\n",
       "    </tr>\n",
       "    <tr>\n",
       "      <th>3</th>\n",
       "      <td>Australia</td>\n",
       "      <td>2011</td>\n",
       "      <td>403705.53</td>\n",
       "      <td>CO2 without lulucf</td>\n",
       "    </tr>\n",
       "    <tr>\n",
       "      <th>4</th>\n",
       "      <td>Australia</td>\n",
       "      <td>2010</td>\n",
       "      <td>406200.99</td>\n",
       "      <td>CO2 without lulucf</td>\n",
       "    </tr>\n",
       "    <tr>\n",
       "      <th>...</th>\n",
       "      <td>...</td>\n",
       "      <td>...</td>\n",
       "      <td>...</td>\n",
       "      <td>...</td>\n",
       "    </tr>\n",
       "    <tr>\n",
       "      <th>8401</th>\n",
       "      <td>United States of America</td>\n",
       "      <td>1994</td>\n",
       "      <td>593.22</td>\n",
       "      <td>Unspecified Mix of HCF and PFC</td>\n",
       "    </tr>\n",
       "    <tr>\n",
       "      <th>8402</th>\n",
       "      <td>United States of America</td>\n",
       "      <td>1993</td>\n",
       "      <td>586.94</td>\n",
       "      <td>Unspecified Mix of HCF and PFC</td>\n",
       "    </tr>\n",
       "    <tr>\n",
       "      <th>8403</th>\n",
       "      <td>United States of America</td>\n",
       "      <td>1992</td>\n",
       "      <td>574.41</td>\n",
       "      <td>Unspecified Mix of HCF and PFC</td>\n",
       "    </tr>\n",
       "    <tr>\n",
       "      <th>8404</th>\n",
       "      <td>United States of America</td>\n",
       "      <td>1991</td>\n",
       "      <td>566.90</td>\n",
       "      <td>Unspecified Mix of HCF and PFC</td>\n",
       "    </tr>\n",
       "    <tr>\n",
       "      <th>8405</th>\n",
       "      <td>United States of America</td>\n",
       "      <td>1990</td>\n",
       "      <td>293.21</td>\n",
       "      <td>Unspecified Mix of HCF and PFC</td>\n",
       "    </tr>\n",
       "  </tbody>\n",
       "</table>\n",
       "<p>8406 rows × 4 columns</p>\n",
       "</div>"
      ],
      "text/plain": [
       "                       country  year     amount  \\\n",
       "0                    Australia  2014  393126.95   \n",
       "1                    Australia  2013  396913.94   \n",
       "2                    Australia  2012  406462.85   \n",
       "3                    Australia  2011  403705.53   \n",
       "4                    Australia  2010  406200.99   \n",
       "...                        ...   ...        ...   \n",
       "8401  United States of America  1994     593.22   \n",
       "8402  United States of America  1993     586.94   \n",
       "8403  United States of America  1992     574.41   \n",
       "8404  United States of America  1991     566.90   \n",
       "8405  United States of America  1990     293.21   \n",
       "\n",
       "                                 gas  \n",
       "0                 CO2 without lulucf  \n",
       "1                 CO2 without lulucf  \n",
       "2                 CO2 without lulucf  \n",
       "3                 CO2 without lulucf  \n",
       "4                 CO2 without lulucf  \n",
       "...                              ...  \n",
       "8401  Unspecified Mix of HCF and PFC  \n",
       "8402  Unspecified Mix of HCF and PFC  \n",
       "8403  Unspecified Mix of HCF and PFC  \n",
       "8404  Unspecified Mix of HCF and PFC  \n",
       "8405  Unspecified Mix of HCF and PFC  \n",
       "\n",
       "[8406 rows x 4 columns]"
      ]
     },
     "execution_count": 428,
     "metadata": {},
     "output_type": "execute_result"
    }
   ],
   "source": [
    "df[\"amount\"]=round(df[\"amount\"],2)\n",
    "df"
   ]
  },
  {
   "cell_type": "code",
   "execution_count": 429,
   "metadata": {},
   "outputs": [],
   "source": [
    "df.to_csv(\"data/output_emission.csv\",index=False)"
   ]
  },
  {
   "cell_type": "code",
   "execution_count": 430,
   "metadata": {},
   "outputs": [],
   "source": [
    "def groupbyGas(gasName):\n",
    "    gas_df=df.loc[df[\"gas\"]==gasName,[\"country\",\"year\",\"amount\",\"gas\"]]\n",
    "    gas_df=gas_df.sort_values(by=\"year\")\n",
    "    gas_df=gas_df.set_index(\"country\")\n",
    "    gas_df=gas_df.reset_index()\n",
    "    \n",
    "    return gas_df"
   ]
  },
  {
   "cell_type": "code",
   "execution_count": 431,
   "metadata": {
    "scrolled": true
   },
   "outputs": [
    {
     "name": "stdout",
     "output_type": "stream",
     "text": [
      "CO2 without lulucf\n",
      "GHG with indirect CO2 without lulucf\n",
      "GHG without lulucf\n",
      "Hydrofluorocarbon\n",
      "Metan without lulucf\n",
      "Nitrogen Trifluoride\n",
      "Nitrous Oxide without lulucf\n",
      "Perfluorocarbons\n",
      "Sulphur Hexafluoride\n",
      "Unspecified Mix of HCF and PFC\n"
     ]
    }
   ],
   "source": [
    "for gas in gas_df:\n",
    "    print(gas)"
   ]
  },
  {
   "cell_type": "code",
   "execution_count": 432,
   "metadata": {},
   "outputs": [],
   "source": [
    "df_co2=groupbyGas(\"CO2 without lulucf\")\n",
    "df_ghg_co2=groupbyGas(\"GHG with indirect CO2 without lulucf\")\n",
    "df_ghg=groupbyGas(\"GHG without lulucf\")\n",
    "df_hcf=groupbyGas(\"Hydrofluorocarbon\")\n",
    "df_nh4=groupbyGas(\"Metan without lulucf\")\n",
    "df_ntf=groupbyGas(\"Nitrogen Trifluoride\")\n",
    "df_nox=groupbyGas(\"Nitrous Oxide without lulucf\")\n",
    "df_pfc=groupbyGas(\"Perfluorocarbons\")\n",
    "df_shf=groupbyGas(\"Sulphur Hexafluoride\")\n",
    "df_uns_hcf_pfc=groupbyGas(\"Unspecified Mix of HCF and PFC\")"
   ]
  },
  {
   "cell_type": "code",
   "execution_count": 433,
   "metadata": {},
   "outputs": [],
   "source": [
    "df_co2=df_co2[[\"year\",\"amount\",\"gas\"]].groupby([\"year\"]).mean()\n",
    "df_co2=df_co2.reset_index()\n",
    "df_co2[\"amount\"]=round((df_co2[\"amount\"])/1000,2)"
   ]
  },
  {
   "cell_type": "code",
   "execution_count": 434,
   "metadata": {},
   "outputs": [],
   "source": [
    "df_co2.to_json(\"data/output_co2.json\",orient='records')"
   ]
  },
  {
   "cell_type": "code",
   "execution_count": 435,
   "metadata": {},
   "outputs": [],
   "source": [
    "df_ghg=df_ghg[[\"year\",\"amount\",\"gas\"]].groupby([\"year\"]).mean()\n",
    "df_ghg=df_ghg.reset_index()\n",
    "df_ghg[\"amount\"]=round((df_ghg[\"amount\"])/1000,2)"
   ]
  },
  {
   "cell_type": "code",
   "execution_count": 436,
   "metadata": {},
   "outputs": [],
   "source": [
    "df_ghg.to_json(\"data/output_ghg.json\",orient='records')"
   ]
  },
  {
   "cell_type": "code",
   "execution_count": 437,
   "metadata": {},
   "outputs": [],
   "source": [
    "df_hcf=df_hcf[[\"year\",\"amount\",\"gas\"]].groupby([\"year\"]).mean()\n",
    "df_hcf=df_hcf.reset_index()\n",
    "df_hcf[\"amount\"]=round((df_hcf[\"amount\"])/1000,2)"
   ]
  },
  {
   "cell_type": "code",
   "execution_count": 438,
   "metadata": {},
   "outputs": [],
   "source": [
    "df_hcf.to_json(\"data/output_hcf.json\",orient='records')"
   ]
  },
  {
   "cell_type": "code",
   "execution_count": 439,
   "metadata": {},
   "outputs": [],
   "source": [
    "df_nh4=df_nh4[[\"year\",\"amount\",\"gas\"]].groupby([\"year\"]).mean()\n",
    "df_nh4=df_nh4.reset_index()\n",
    "df_nh4[\"amount\"]=round((df_nh4[\"amount\"])/1000,2)"
   ]
  },
  {
   "cell_type": "code",
   "execution_count": 440,
   "metadata": {},
   "outputs": [],
   "source": [
    "df_nh4.to_json(\"data/output_nh4.json\",orient='records')"
   ]
  },
  {
   "cell_type": "code",
   "execution_count": 441,
   "metadata": {},
   "outputs": [],
   "source": [
    "df_ntf=df_ntf[[\"year\",\"amount\",\"gas\"]].groupby([\"year\"]).mean()\n",
    "df_ntf=df_ntf.reset_index()\n",
    "df_ntf[\"amount\"]=round((df_ntf[\"amount\"])/1000,2)"
   ]
  },
  {
   "cell_type": "code",
   "execution_count": 442,
   "metadata": {},
   "outputs": [],
   "source": [
    "df_ntf.to_json(\"data/output_ntf.json\",orient='records')"
   ]
  },
  {
   "cell_type": "code",
   "execution_count": 443,
   "metadata": {},
   "outputs": [],
   "source": [
    "df_nox=df_nox[[\"year\",\"amount\",\"gas\"]].groupby([\"year\"]).mean()\n",
    "df_nox=df_nox.reset_index()\n",
    "df_nox[\"amount\"]=round((df_nox[\"amount\"])/1000,2)"
   ]
  },
  {
   "cell_type": "code",
   "execution_count": 444,
   "metadata": {},
   "outputs": [],
   "source": [
    "df_nox.to_json(\"data/output_nox.json\",orient='records')"
   ]
  },
  {
   "cell_type": "code",
   "execution_count": 445,
   "metadata": {},
   "outputs": [],
   "source": [
    "df_pfc=df_pfc[[\"year\",\"amount\",\"gas\"]].groupby([\"year\"]).mean()\n",
    "df_pfc=df_pfc.reset_index()\n",
    "df_pfc[\"amount\"]=round((df_pfc[\"amount\"])/1000,2)"
   ]
  },
  {
   "cell_type": "code",
   "execution_count": 446,
   "metadata": {},
   "outputs": [],
   "source": [
    "df_pfc.to_json(\"data/output_pfc.json\",orient='records')"
   ]
  },
  {
   "cell_type": "code",
   "execution_count": 447,
   "metadata": {},
   "outputs": [],
   "source": [
    "df_shf=df_shf[[\"year\",\"amount\",\"gas\"]].groupby([\"year\"]).mean()\n",
    "df_shf=df_shf.reset_index()\n",
    "df_shf[\"amount\"]=round((df_shf[\"amount\"])/1000,2)"
   ]
  },
  {
   "cell_type": "code",
   "execution_count": 448,
   "metadata": {},
   "outputs": [],
   "source": [
    "df_shf.to_json(\"data/output_shf.json\",orient='records')"
   ]
  },
  {
   "cell_type": "code",
   "execution_count": null,
   "metadata": {},
   "outputs": [],
   "source": []
  }
 ],
 "metadata": {
  "kernelspec": {
   "display_name": "Python 3",
   "language": "python",
   "name": "python3"
  },
  "language_info": {
   "codemirror_mode": {
    "name": "ipython",
    "version": 3
   },
   "file_extension": ".py",
   "mimetype": "text/x-python",
   "name": "python",
   "nbconvert_exporter": "python",
   "pygments_lexer": "ipython3",
   "version": "3.8.5"
  }
 },
 "nbformat": 4,
 "nbformat_minor": 4
}
